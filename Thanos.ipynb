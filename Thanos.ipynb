{
 "cells": [
  {
   "cell_type": "code",
   "execution_count": 1,
   "id": "14b28ce3",
   "metadata": {},
   "outputs": [],
   "source": [
    "import os\n",
    "import shutil as st\n",
    "import random as rd\n",
    "from datetime import datetime as dt,timedelta \n"
   ]
  },
  {
   "cell_type": "code",
   "execution_count": 2,
   "id": "60a8a551",
   "metadata": {},
   "outputs": [
    {
     "data": {
      "text/plain": [
       "['.ipynb_checkpoints',\n",
       " 'bank',\n",
       " 'MohamedAbdAl-mgyd.ipynb',\n",
       " 'Session_2',\n",
       " 'Session_2.rar']"
      ]
     },
     "execution_count": 2,
     "metadata": {},
     "output_type": "execute_result"
    }
   ],
   "source": [
    "os.listdir(\".\")"
   ]
  },
  {
   "cell_type": "code",
   "execution_count": 6,
   "id": "2ff77ddb",
   "metadata": {},
   "outputs": [
    {
     "ename": "SyntaxError",
     "evalue": "(unicode error) 'unicodeescape' codec can't decode bytes in position 1-2: truncated \\uXXXX escape (<ipython-input-6-bd3f9c6efa2b>, line 2)",
     "output_type": "error",
     "traceback": [
      "\u001b[1;36m  File \u001b[1;32m\"<ipython-input-6-bd3f9c6efa2b>\"\u001b[1;36m, line \u001b[1;32m2\u001b[0m\n\u001b[1;33m    names_pict = os.listdir(\".\\universe\")\u001b[0m\n\u001b[1;37m                            ^\u001b[0m\n\u001b[1;31mSyntaxError\u001b[0m\u001b[1;31m:\u001b[0m (unicode error) 'unicodeescape' codec can't decode bytes in position 1-2: truncated \\uXXXX escape\n"
     ]
    }
   ],
   "source": [
    "# Names of the pictures.\n",
    "names_pict = os.listdir(\".\\universe\")\n",
    "# User input number of the picture.\n",
    "num_pict = int(input(\"Enter your picture number: \"))\n",
    "\n",
    "# Rendom sample of pictures\n",
    "pict = os.listdir(\"./universe\")\n",
    "pict_smp = rd.sample(pict, k=(len(pict)//2))\n",
    "\n",
    "\n",
    "\n",
    "out=False\n",
    "n_loop = 0\n",
    "time_start = dt.now() \n",
    "while out == False:\n",
    "    # Rendom sample of pictures\n",
    "    pict = os.listdir(\"./universe\")\n",
    "    pict_smp = rd.sample(pict, k=(len(pict)//2))\n",
    "    \n",
    "    # Delete half the pictures.\n",
    "    for name in pict_smp:\n",
    "        os.remove(\"./universe/\"+name)\n",
    "        \n",
    "    if len(pict)==1:\n",
    "        out = (names_pict[num_pict-1] == pict[0])\n",
    "        name_pict = pict[0]     # Name the last picture.\n",
    "        n_loop = n_loop + 1       # The number of loop to (out=True).\n",
    "        \n",
    "        os.remove(\"./universe/\"+pict[0])    # Delete the last picture.\n",
    "        \n",
    "        # Recovery the pictures.\n",
    "        for i in range(len(names_pict)):\n",
    "            st.copy2(\"./backup/\"+names_pict[i],\"./universe\")\n",
    "            \n",
    "time_end = dt.now()\n",
    "\n",
    "# the time of loop\n",
    "time_loop = (time_end-time_start)\n",
    "\n",
    "\n",
    "print(f\"Your picture number: {num_pict}\" ,f\"\\nYour picture name: {name_pict}\") \n",
    "print(f\"\\nYou need a portable cam to get to success: {n_loop}\",f\"\\nthe time of loop: {time_loop}\")"
   ]
  },
  {
   "cell_type": "code",
   "execution_count": null,
   "id": "80bcd9e4",
   "metadata": {},
   "outputs": [],
   "source": []
  }
 ],
 "metadata": {
  "kernelspec": {
   "display_name": "Python 3",
   "language": "python",
   "name": "python3"
  },
  "language_info": {
   "codemirror_mode": {
    "name": "ipython",
    "version": 3
   },
   "file_extension": ".py",
   "mimetype": "text/x-python",
   "name": "python",
   "nbconvert_exporter": "python",
   "pygments_lexer": "ipython3",
   "version": "3.8.8"
  }
 },
 "nbformat": 4,
 "nbformat_minor": 5
}
